{
 "cells": [
  {
   "cell_type": "markdown",
   "id": "e3193c3d-413b-4ce2-974f-d95a15982be0",
   "metadata": {},
   "source": [
    "<h1>Linear model with independent categorical variable </h1>"
   ]
  },
  {
   "cell_type": "code",
   "execution_count": 1,
   "id": "6944e429-8c62-4a14-826e-34795d6a4368",
   "metadata": {
    "tags": []
   },
   "outputs": [],
   "source": [
    "import pandas as pd \n",
    "import seaborn as sns \n",
    "import matplotlib.pyplot as plt \n",
    "import statsmodels.api as sm \n",
    "import numpy as np \n",
    "from statsmodels.iolib.summary2 import summary_col\n",
    "from skimage import io\n",
    "import plotly.graph_objs as go\n",
    "from scipy.stats import pearsonr\n",
    "from sklearn.preprocessing import LabelEncoder"
   ]
  },
  {
   "cell_type": "code",
   "execution_count": 2,
   "id": "cc40e546-e6e0-4b5c-9f3b-937e4b3000f9",
   "metadata": {},
   "outputs": [],
   "source": [
    "import warnings\n",
    "warnings.filterwarnings('ignore')"
   ]
  },
  {
   "cell_type": "code",
   "execution_count": 3,
   "id": "dff01f58-29c0-4554-9547-7bb358eeb9ba",
   "metadata": {
    "tags": []
   },
   "outputs": [],
   "source": [
    "def setup_matplot(titlesize=int(14),labelsize=int(12)):\n",
    "    import matplotlib.pyplot as plt\n",
    "    plt.rcParams['figure.figsize'] = [8,6]\n",
    "    plt.rcParams['figure.titlesize'] = titlesize\n",
    "    plt.rcParams['figure.labelsize'] = labelsize\n",
    "    return(plt)"
   ]
  },
  {
   "cell_type": "code",
   "execution_count": 4,
   "id": "4eb4f926-a9ec-4988-9f26-2dc8056e8de1",
   "metadata": {
    "tags": []
   },
   "outputs": [],
   "source": [
    "plt = setup_matplot()"
   ]
  },
  {
   "cell_type": "code",
   "execution_count": 5,
   "id": "77990562-120c-4bab-8163-811f6071044f",
   "metadata": {
    "tags": []
   },
   "outputs": [
    {
     "data": {
      "text/html": [
       "<div>\n",
       "<style scoped>\n",
       "    .dataframe tbody tr th:only-of-type {\n",
       "        vertical-align: middle;\n",
       "    }\n",
       "\n",
       "    .dataframe tbody tr th {\n",
       "        vertical-align: top;\n",
       "    }\n",
       "\n",
       "    .dataframe thead th {\n",
       "        text-align: right;\n",
       "    }\n",
       "</style>\n",
       "<table border=\"1\" class=\"dataframe\">\n",
       "  <thead>\n",
       "    <tr style=\"text-align: right;\">\n",
       "      <th></th>\n",
       "      <th>pais</th>\n",
       "      <th>cpi</th>\n",
       "      <th>regiao</th>\n",
       "    </tr>\n",
       "  </thead>\n",
       "  <tbody>\n",
       "    <tr>\n",
       "      <th>0</th>\n",
       "      <td>Argentina</td>\n",
       "      <td>3.9</td>\n",
       "      <td>America_do_sul</td>\n",
       "    </tr>\n",
       "    <tr>\n",
       "      <th>1</th>\n",
       "      <td>Australia</td>\n",
       "      <td>8.7</td>\n",
       "      <td>Oceania</td>\n",
       "    </tr>\n",
       "    <tr>\n",
       "      <th>2</th>\n",
       "      <td>Austria</td>\n",
       "      <td>7.9</td>\n",
       "      <td>Europa</td>\n",
       "    </tr>\n",
       "  </tbody>\n",
       "</table>\n",
       "</div>"
      ],
      "text/plain": [
       "        pais  cpi          regiao\n",
       "0  Argentina  3.9  America_do_sul\n",
       "1  Australia  8.7         Oceania\n",
       "2    Austria  7.9          Europa"
      ]
     },
     "execution_count": 5,
     "metadata": {},
     "output_type": "execute_result"
    }
   ],
   "source": [
    "df_corrupcao = pd.read_csv('../database/corrupcao.csv')\n",
    "\n",
    "df_corrupcao.head(3)"
   ]
  },
  {
   "cell_type": "code",
   "execution_count": 6,
   "id": "66cf6b44-61f4-4d43-b41c-4782eb534167",
   "metadata": {
    "tags": []
   },
   "outputs": [
    {
     "data": {
      "text/html": [
       "<div>\n",
       "<style scoped>\n",
       "    .dataframe tbody tr th:only-of-type {\n",
       "        vertical-align: middle;\n",
       "    }\n",
       "\n",
       "    .dataframe tbody tr th {\n",
       "        vertical-align: top;\n",
       "    }\n",
       "\n",
       "    .dataframe thead tr th {\n",
       "        text-align: left;\n",
       "    }\n",
       "\n",
       "    .dataframe thead tr:last-of-type th {\n",
       "        text-align: right;\n",
       "    }\n",
       "</style>\n",
       "<table border=\"1\" class=\"dataframe\">\n",
       "  <thead>\n",
       "    <tr>\n",
       "      <th></th>\n",
       "      <th colspan=\"8\" halign=\"left\">cpi</th>\n",
       "    </tr>\n",
       "    <tr>\n",
       "      <th></th>\n",
       "      <th>count</th>\n",
       "      <th>mean</th>\n",
       "      <th>std</th>\n",
       "      <th>min</th>\n",
       "      <th>25%</th>\n",
       "      <th>50%</th>\n",
       "      <th>75%</th>\n",
       "      <th>max</th>\n",
       "    </tr>\n",
       "    <tr>\n",
       "      <th>regiao</th>\n",
       "      <th></th>\n",
       "      <th></th>\n",
       "      <th></th>\n",
       "      <th></th>\n",
       "      <th></th>\n",
       "      <th></th>\n",
       "      <th></th>\n",
       "      <th></th>\n",
       "    </tr>\n",
       "  </thead>\n",
       "  <tbody>\n",
       "    <tr>\n",
       "      <th>America_do_sul</th>\n",
       "      <td>5.0</td>\n",
       "      <td>4.180000</td>\n",
       "      <td>1.237740</td>\n",
       "      <td>2.8</td>\n",
       "      <td>3.900</td>\n",
       "      <td>4.00</td>\n",
       "      <td>4.000</td>\n",
       "      <td>6.2</td>\n",
       "    </tr>\n",
       "    <tr>\n",
       "      <th>Asia</th>\n",
       "      <td>17.0</td>\n",
       "      <td>2.329412</td>\n",
       "      <td>0.898446</td>\n",
       "      <td>0.8</td>\n",
       "      <td>1.800</td>\n",
       "      <td>2.30</td>\n",
       "      <td>2.800</td>\n",
       "      <td>3.8</td>\n",
       "    </tr>\n",
       "    <tr>\n",
       "      <th>EUA_e_Canada</th>\n",
       "      <td>2.0</td>\n",
       "      <td>8.000000</td>\n",
       "      <td>1.272792</td>\n",
       "      <td>7.1</td>\n",
       "      <td>7.550</td>\n",
       "      <td>8.00</td>\n",
       "      <td>8.450</td>\n",
       "      <td>8.9</td>\n",
       "    </tr>\n",
       "    <tr>\n",
       "      <th>Europa</th>\n",
       "      <td>24.0</td>\n",
       "      <td>6.258333</td>\n",
       "      <td>2.272504</td>\n",
       "      <td>2.1</td>\n",
       "      <td>4.275</td>\n",
       "      <td>6.55</td>\n",
       "      <td>8.125</td>\n",
       "      <td>9.3</td>\n",
       "    </tr>\n",
       "    <tr>\n",
       "      <th>Oceania</th>\n",
       "      <td>2.0</td>\n",
       "      <td>9.000000</td>\n",
       "      <td>0.424264</td>\n",
       "      <td>8.7</td>\n",
       "      <td>8.850</td>\n",
       "      <td>9.00</td>\n",
       "      <td>9.150</td>\n",
       "      <td>9.3</td>\n",
       "    </tr>\n",
       "  </tbody>\n",
       "</table>\n",
       "</div>"
      ],
      "text/plain": [
       "                 cpi                                                  \n",
       "               count      mean       std  min    25%   50%    75%  max\n",
       "regiao                                                                \n",
       "America_do_sul   5.0  4.180000  1.237740  2.8  3.900  4.00  4.000  6.2\n",
       "Asia            17.0  2.329412  0.898446  0.8  1.800  2.30  2.800  3.8\n",
       "EUA_e_Canada     2.0  8.000000  1.272792  7.1  7.550  8.00  8.450  8.9\n",
       "Europa          24.0  6.258333  2.272504  2.1  4.275  6.55  8.125  9.3\n",
       "Oceania          2.0  9.000000  0.424264  8.7  8.850  9.00  9.150  9.3"
      ]
     },
     "execution_count": 6,
     "metadata": {},
     "output_type": "execute_result"
    }
   ],
   "source": [
    "df_corrupcao.groupby('regiao').describe()"
   ]
  },
  {
   "cell_type": "code",
   "execution_count": 7,
   "id": "5d41e372-2d2d-47eb-930e-303ab5b04313",
   "metadata": {
    "tags": []
   },
   "outputs": [
    {
     "data": {
      "text/html": [
       "<div>\n",
       "<style scoped>\n",
       "    .dataframe tbody tr th:only-of-type {\n",
       "        vertical-align: middle;\n",
       "    }\n",
       "\n",
       "    .dataframe tbody tr th {\n",
       "        vertical-align: top;\n",
       "    }\n",
       "\n",
       "    .dataframe thead th {\n",
       "        text-align: right;\n",
       "    }\n",
       "</style>\n",
       "<table border=\"1\" class=\"dataframe\">\n",
       "  <thead>\n",
       "    <tr style=\"text-align: right;\">\n",
       "      <th></th>\n",
       "      <th>contagem</th>\n",
       "      <th>%</th>\n",
       "    </tr>\n",
       "    <tr>\n",
       "      <th>regiao</th>\n",
       "      <th></th>\n",
       "      <th></th>\n",
       "    </tr>\n",
       "  </thead>\n",
       "  <tbody>\n",
       "    <tr>\n",
       "      <th>Europa</th>\n",
       "      <td>24</td>\n",
       "      <td>0.48</td>\n",
       "    </tr>\n",
       "    <tr>\n",
       "      <th>Asia</th>\n",
       "      <td>17</td>\n",
       "      <td>0.34</td>\n",
       "    </tr>\n",
       "    <tr>\n",
       "      <th>America_do_sul</th>\n",
       "      <td>5</td>\n",
       "      <td>0.10</td>\n",
       "    </tr>\n",
       "    <tr>\n",
       "      <th>Oceania</th>\n",
       "      <td>2</td>\n",
       "      <td>0.04</td>\n",
       "    </tr>\n",
       "    <tr>\n",
       "      <th>EUA_e_Canada</th>\n",
       "      <td>2</td>\n",
       "      <td>0.04</td>\n",
       "    </tr>\n",
       "  </tbody>\n",
       "</table>\n",
       "</div>"
      ],
      "text/plain": [
       "                contagem     %\n",
       "regiao                        \n",
       "Europa                24  0.48\n",
       "Asia                  17  0.34\n",
       "America_do_sul         5  0.10\n",
       "Oceania                2  0.04\n",
       "EUA_e_Canada           2  0.04"
      ]
     },
     "execution_count": 7,
     "metadata": {},
     "output_type": "execute_result"
    }
   ],
   "source": [
    "contagem = df_corrupcao['regiao'].value_counts(dropna=False)\n",
    "percent = df_corrupcao['regiao'].value_counts(dropna=False, normalize=True)\n",
    "pd.concat([contagem, percent], axis=1, keys=['contagem', '%'], sort=False)"
   ]
  },
  {
   "cell_type": "markdown",
   "id": "ffefa61c-3a19-49a5-95b9-6abb19ab2e8e",
   "metadata": {},
   "source": [
    "<h2>Exemplo de ponderação arbitrária</h2>"
   ]
  },
  {
   "cell_type": "code",
   "execution_count": 8,
   "id": "bbd07ba4-82ef-477d-815a-ada927f0ac02",
   "metadata": {
    "tags": []
   },
   "outputs": [
    {
     "data": {
      "text/html": [
       "<div>\n",
       "<style scoped>\n",
       "    .dataframe tbody tr th:only-of-type {\n",
       "        vertical-align: middle;\n",
       "    }\n",
       "\n",
       "    .dataframe tbody tr th {\n",
       "        vertical-align: top;\n",
       "    }\n",
       "\n",
       "    .dataframe thead th {\n",
       "        text-align: right;\n",
       "    }\n",
       "</style>\n",
       "<table border=\"1\" class=\"dataframe\">\n",
       "  <thead>\n",
       "    <tr style=\"text-align: right;\">\n",
       "      <th></th>\n",
       "      <th>pais</th>\n",
       "      <th>cpi</th>\n",
       "      <th>regiao</th>\n",
       "      <th>regiao_numerico</th>\n",
       "    </tr>\n",
       "  </thead>\n",
       "  <tbody>\n",
       "    <tr>\n",
       "      <th>0</th>\n",
       "      <td>Argentina</td>\n",
       "      <td>3.9</td>\n",
       "      <td>America_do_sul</td>\n",
       "      <td>1</td>\n",
       "    </tr>\n",
       "    <tr>\n",
       "      <th>1</th>\n",
       "      <td>Australia</td>\n",
       "      <td>8.7</td>\n",
       "      <td>Oceania</td>\n",
       "      <td>5</td>\n",
       "    </tr>\n",
       "    <tr>\n",
       "      <th>2</th>\n",
       "      <td>Austria</td>\n",
       "      <td>7.9</td>\n",
       "      <td>Europa</td>\n",
       "      <td>4</td>\n",
       "    </tr>\n",
       "    <tr>\n",
       "      <th>3</th>\n",
       "      <td>Belgium</td>\n",
       "      <td>7.1</td>\n",
       "      <td>Europa</td>\n",
       "      <td>4</td>\n",
       "    </tr>\n",
       "    <tr>\n",
       "      <th>4</th>\n",
       "      <td>Brazil</td>\n",
       "      <td>4.0</td>\n",
       "      <td>America_do_sul</td>\n",
       "      <td>1</td>\n",
       "    </tr>\n",
       "    <tr>\n",
       "      <th>5</th>\n",
       "      <td>Canada</td>\n",
       "      <td>8.9</td>\n",
       "      <td>EUA_e_Canada</td>\n",
       "      <td>3</td>\n",
       "    </tr>\n",
       "    <tr>\n",
       "      <th>6</th>\n",
       "      <td>Chile</td>\n",
       "      <td>6.2</td>\n",
       "      <td>America_do_sul</td>\n",
       "      <td>1</td>\n",
       "    </tr>\n",
       "    <tr>\n",
       "      <th>7</th>\n",
       "      <td>China</td>\n",
       "      <td>2.5</td>\n",
       "      <td>Asia</td>\n",
       "      <td>2</td>\n",
       "    </tr>\n",
       "    <tr>\n",
       "      <th>8</th>\n",
       "      <td>Colombia</td>\n",
       "      <td>4.0</td>\n",
       "      <td>America_do_sul</td>\n",
       "      <td>1</td>\n",
       "    </tr>\n",
       "    <tr>\n",
       "      <th>9</th>\n",
       "      <td>Cyprus</td>\n",
       "      <td>6.3</td>\n",
       "      <td>Europa</td>\n",
       "      <td>4</td>\n",
       "    </tr>\n",
       "  </tbody>\n",
       "</table>\n",
       "</div>"
      ],
      "text/plain": [
       "        pais  cpi          regiao  regiao_numerico\n",
       "0  Argentina  3.9  America_do_sul                1\n",
       "1  Australia  8.7         Oceania                5\n",
       "2    Austria  7.9          Europa                4\n",
       "3    Belgium  7.1          Europa                4\n",
       "4     Brazil  4.0  America_do_sul                1\n",
       "5     Canada  8.9    EUA_e_Canada                3\n",
       "6      Chile  6.2  America_do_sul                1\n",
       "7      China  2.5            Asia                2\n",
       "8   Colombia  4.0  America_do_sul                1\n",
       "9     Cyprus  6.3          Europa                4"
      ]
     },
     "execution_count": 8,
     "metadata": {},
     "output_type": "execute_result"
    }
   ],
   "source": [
    "label_encoder = LabelEncoder()\n",
    "df_corrupcao['regiao_numerico'] = label_encoder.fit_transform(df_corrupcao['regiao'])\n",
    "df_corrupcao['regiao_numerico'] = df_corrupcao['regiao_numerico'] + 1\n",
    "\n",
    "df_corrupcao.head(10)"
   ]
  },
  {
   "cell_type": "code",
   "execution_count": 9,
   "id": "3e36223b-8297-4a4c-a3bd-9d6c9f754ebd",
   "metadata": {
    "tags": []
   },
   "outputs": [
    {
     "name": "stdout",
     "output_type": "stream",
     "text": [
      "<class 'pandas.core.series.Series'>\n",
      "RangeIndex: 50 entries, 0 to 49\n",
      "Series name: regiao_numerico\n",
      "Non-Null Count  Dtype\n",
      "--------------  -----\n",
      "50 non-null     int64\n",
      "dtypes: int64(1)\n",
      "memory usage: 528.0 bytes\n"
     ]
    },
    {
     "data": {
      "text/html": [
       "<div>\n",
       "<style scoped>\n",
       "    .dataframe tbody tr th:only-of-type {\n",
       "        vertical-align: middle;\n",
       "    }\n",
       "\n",
       "    .dataframe tbody tr th {\n",
       "        vertical-align: top;\n",
       "    }\n",
       "\n",
       "    .dataframe thead th {\n",
       "        text-align: right;\n",
       "    }\n",
       "</style>\n",
       "<table border=\"1\" class=\"dataframe\">\n",
       "  <thead>\n",
       "    <tr style=\"text-align: right;\">\n",
       "      <th></th>\n",
       "      <th>cpi</th>\n",
       "      <th>regiao_numerico</th>\n",
       "    </tr>\n",
       "  </thead>\n",
       "  <tbody>\n",
       "    <tr>\n",
       "      <th>count</th>\n",
       "      <td>50.000000</td>\n",
       "      <td>50.000000</td>\n",
       "    </tr>\n",
       "    <tr>\n",
       "      <th>mean</th>\n",
       "      <td>4.894000</td>\n",
       "      <td>3.020000</td>\n",
       "    </tr>\n",
       "    <tr>\n",
       "      <th>std</th>\n",
       "      <td>2.678974</td>\n",
       "      <td>1.186489</td>\n",
       "    </tr>\n",
       "    <tr>\n",
       "      <th>min</th>\n",
       "      <td>0.800000</td>\n",
       "      <td>1.000000</td>\n",
       "    </tr>\n",
       "    <tr>\n",
       "      <th>25%</th>\n",
       "      <td>2.575000</td>\n",
       "      <td>2.000000</td>\n",
       "    </tr>\n",
       "    <tr>\n",
       "      <th>50%</th>\n",
       "      <td>3.950000</td>\n",
       "      <td>4.000000</td>\n",
       "    </tr>\n",
       "    <tr>\n",
       "      <th>75%</th>\n",
       "      <td>7.475000</td>\n",
       "      <td>4.000000</td>\n",
       "    </tr>\n",
       "    <tr>\n",
       "      <th>max</th>\n",
       "      <td>9.300000</td>\n",
       "      <td>5.000000</td>\n",
       "    </tr>\n",
       "  </tbody>\n",
       "</table>\n",
       "</div>"
      ],
      "text/plain": [
       "             cpi  regiao_numerico\n",
       "count  50.000000        50.000000\n",
       "mean    4.894000         3.020000\n",
       "std     2.678974         1.186489\n",
       "min     0.800000         1.000000\n",
       "25%     2.575000         2.000000\n",
       "50%     3.950000         4.000000\n",
       "75%     7.475000         4.000000\n",
       "max     9.300000         5.000000"
      ]
     },
     "execution_count": 9,
     "metadata": {},
     "output_type": "execute_result"
    }
   ],
   "source": [
    "df_corrupcao['regiao_numerico'].info()\n",
    "df_corrupcao.describe()"
   ]
  },
  {
   "cell_type": "code",
   "execution_count": 10,
   "id": "d09a0dfd-ba89-41ef-aba4-7cfc09b76d35",
   "metadata": {
    "tags": []
   },
   "outputs": [
    {
     "name": "stdout",
     "output_type": "stream",
     "text": [
      "                            OLS Regression Results                            \n",
      "==============================================================================\n",
      "Dep. Variable:                    cpi   R-squared:                       0.411\n",
      "Model:                            OLS   Adj. R-squared:                  0.399\n",
      "Method:                 Least Squares   F-statistic:                     33.56\n",
      "Date:                Sat, 28 Oct 2023   Prob (F-statistic):           5.19e-07\n",
      "Time:                        21:11:25   Log-Likelihood:                -106.46\n",
      "No. Observations:                  50   AIC:                             216.9\n",
      "Df Residuals:                      48   BIC:                             220.7\n",
      "Df Model:                           1                                         \n",
      "Covariance Type:            nonrobust                                         \n",
      "===================================================================================\n",
      "                      coef    std err          t      P>|t|      [0.025      0.975]\n",
      "-----------------------------------------------------------------------------------\n",
      "Intercept           0.5200      0.810      0.642      0.524      -1.109       2.149\n",
      "regiao_numerico     1.4483      0.250      5.793      0.000       0.946       1.951\n",
      "==============================================================================\n",
      "Omnibus:                        2.392   Durbin-Watson:                   1.464\n",
      "Prob(Omnibus):                  0.302   Jarque-Bera (JB):                1.392\n",
      "Skew:                           0.027   Prob(JB):                        0.499\n",
      "Kurtosis:                       2.184   Cond. No.                         9.69\n",
      "==============================================================================\n",
      "\n",
      "Notes:\n",
      "[1] Standard Errors assume that the covariance matrix of the errors is correctly specified.\n"
     ]
    }
   ],
   "source": [
    "modelo_corrupcao_errado = sm.OLS.from_formula(\"cpi ~ regiao_numerico\",\n",
    "                                              df_corrupcao).fit()\n",
    "\n",
    "#Parâmetros do modelo\n",
    "print(modelo_corrupcao_errado.summary())"
   ]
  },
  {
   "cell_type": "code",
   "execution_count": 11,
   "id": "012fb78f-3807-430c-b37b-c1d5a9647014",
   "metadata": {
    "tags": []
   },
   "outputs": [
    {
     "data": {
      "text/html": [
       "<div>\n",
       "<style scoped>\n",
       "    .dataframe tbody tr th:only-of-type {\n",
       "        vertical-align: middle;\n",
       "    }\n",
       "\n",
       "    .dataframe tbody tr th {\n",
       "        vertical-align: top;\n",
       "    }\n",
       "\n",
       "    .dataframe thead th {\n",
       "        text-align: right;\n",
       "    }\n",
       "</style>\n",
       "<table border=\"1\" class=\"dataframe\">\n",
       "  <thead>\n",
       "    <tr style=\"text-align: right;\">\n",
       "      <th></th>\n",
       "      <th>0</th>\n",
       "      <th>1</th>\n",
       "    </tr>\n",
       "  </thead>\n",
       "  <tbody>\n",
       "    <tr>\n",
       "      <th>Intercept</th>\n",
       "      <td>-1.108888</td>\n",
       "      <td>2.148957</td>\n",
       "    </tr>\n",
       "    <tr>\n",
       "      <th>regiao_numerico</th>\n",
       "      <td>0.945636</td>\n",
       "      <td>1.951029</td>\n",
       "    </tr>\n",
       "  </tbody>\n",
       "</table>\n",
       "</div>"
      ],
      "text/plain": [
       "                        0         1\n",
       "Intercept       -1.108888  2.148957\n",
       "regiao_numerico  0.945636  1.951029"
      ]
     },
     "execution_count": 11,
     "metadata": {},
     "output_type": "execute_result"
    }
   ],
   "source": [
    "#Calculando os intervalos de confiança com nível de significância de 5%\n",
    "modelo_corrupcao_errado.conf_int(alpha=0.05)"
   ]
  },
  {
   "cell_type": "code",
   "execution_count": 12,
   "id": "02d94c3b-1451-408c-ba51-603afd066aee",
   "metadata": {
    "tags": []
   },
   "outputs": [
    {
     "data": {
      "image/png": "[encoded data removed]",
      "text/plain": [
       "<Figure size 360x360 with 1 Axes>"
      ]
     },
     "metadata": {
      "needs_background": "light"
     },
     "output_type": "display_data"
    }
   ],
   "source": [
    "ax =sns.lmplot(\n",
    "    data=df_corrupcao,\n",
    "    x=\"regiao_numerico\", y=\"cpi\",\n",
    "    height=5\n",
    ")\n",
    "plt.show()"
   ]
  },
  {
   "cell_type": "code",
   "execution_count": 13,
   "id": "8c24f5e5-0ab1-4d2d-a0ed-739240575a66",
   "metadata": {
    "tags": []
   },
   "outputs": [
    {
     "data": {
      "image/png": "[encoded data removed]",
      "text/plain": [
       "<Figure size 432x288 with 1 Axes>"
      ]
     },
     "metadata": {
      "needs_background": "light"
     },
     "output_type": "display_data"
    }
   ],
   "source": [
    "def label_point(x, y, val, ax):\n",
    "    a = pd.concat({'x': x, 'y': y, 'val': val}, axis=1)\n",
    "    for i, point in a.iterrows():\n",
    "        ax.text(point['x']+.02, point['y'], str(point['val']) + \" \" +\n",
    "                str(point['y']))\n",
    "\n",
    "plt.title('Resultado da ponderação arbitrária')\n",
    "plt.xlabel('Região')\n",
    "plt.ylabel('Corruption Perception Index')\n",
    "label_point(x = df_corrupcao['regiao_numerico'],\n",
    "            y = df_corrupcao['cpi'],\n",
    "            val = df_corrupcao['pais'],\n",
    "            ax = plt.gca()) "
   ]
  },
  {
   "cell_type": "markdown",
   "id": "b0b6caf5-ff4c-4ae0-85cb-0caace64a752",
   "metadata": {},
   "source": [
    "<h2>Aplicando o processo de dummização</h2>"
   ]
  },
  {
   "cell_type": "code",
   "execution_count": 14,
   "id": "a08f37d3-0221-4f02-aa66-27234d4a8d24",
   "metadata": {
    "tags": []
   },
   "outputs": [
    {
     "data": {
      "text/html": [
       "<div>\n",
       "<style scoped>\n",
       "    .dataframe tbody tr th:only-of-type {\n",
       "        vertical-align: middle;\n",
       "    }\n",
       "\n",
       "    .dataframe tbody tr th {\n",
       "        vertical-align: top;\n",
       "    }\n",
       "\n",
       "    .dataframe thead th {\n",
       "        text-align: right;\n",
       "    }\n",
       "</style>\n",
       "<table border=\"1\" class=\"dataframe\">\n",
       "  <thead>\n",
       "    <tr style=\"text-align: right;\">\n",
       "      <th></th>\n",
       "      <th>pais</th>\n",
       "      <th>cpi</th>\n",
       "      <th>regiao_numerico</th>\n",
       "      <th>regiao_Asia</th>\n",
       "      <th>regiao_EUA_e_Canada</th>\n",
       "      <th>regiao_Europa</th>\n",
       "      <th>regiao_Oceania</th>\n",
       "    </tr>\n",
       "  </thead>\n",
       "  <tbody>\n",
       "    <tr>\n",
       "      <th>0</th>\n",
       "      <td>Argentina</td>\n",
       "      <td>3.9</td>\n",
       "      <td>1</td>\n",
       "      <td>False</td>\n",
       "      <td>False</td>\n",
       "      <td>False</td>\n",
       "      <td>False</td>\n",
       "    </tr>\n",
       "    <tr>\n",
       "      <th>1</th>\n",
       "      <td>Australia</td>\n",
       "      <td>8.7</td>\n",
       "      <td>5</td>\n",
       "      <td>False</td>\n",
       "      <td>False</td>\n",
       "      <td>False</td>\n",
       "      <td>True</td>\n",
       "    </tr>\n",
       "    <tr>\n",
       "      <th>2</th>\n",
       "      <td>Austria</td>\n",
       "      <td>7.9</td>\n",
       "      <td>4</td>\n",
       "      <td>False</td>\n",
       "      <td>False</td>\n",
       "      <td>True</td>\n",
       "      <td>False</td>\n",
       "    </tr>\n",
       "    <tr>\n",
       "      <th>3</th>\n",
       "      <td>Belgium</td>\n",
       "      <td>7.1</td>\n",
       "      <td>4</td>\n",
       "      <td>False</td>\n",
       "      <td>False</td>\n",
       "      <td>True</td>\n",
       "      <td>False</td>\n",
       "    </tr>\n",
       "    <tr>\n",
       "      <th>4</th>\n",
       "      <td>Brazil</td>\n",
       "      <td>4.0</td>\n",
       "      <td>1</td>\n",
       "      <td>False</td>\n",
       "      <td>False</td>\n",
       "      <td>False</td>\n",
       "      <td>False</td>\n",
       "    </tr>\n",
       "    <tr>\n",
       "      <th>5</th>\n",
       "      <td>Canada</td>\n",
       "      <td>8.9</td>\n",
       "      <td>3</td>\n",
       "      <td>False</td>\n",
       "      <td>True</td>\n",
       "      <td>False</td>\n",
       "      <td>False</td>\n",
       "    </tr>\n",
       "    <tr>\n",
       "      <th>6</th>\n",
       "      <td>Chile</td>\n",
       "      <td>6.2</td>\n",
       "      <td>1</td>\n",
       "      <td>False</td>\n",
       "      <td>False</td>\n",
       "      <td>False</td>\n",
       "      <td>False</td>\n",
       "    </tr>\n",
       "    <tr>\n",
       "      <th>7</th>\n",
       "      <td>China</td>\n",
       "      <td>2.5</td>\n",
       "      <td>2</td>\n",
       "      <td>True</td>\n",
       "      <td>False</td>\n",
       "      <td>False</td>\n",
       "      <td>False</td>\n",
       "    </tr>\n",
       "    <tr>\n",
       "      <th>8</th>\n",
       "      <td>Colombia</td>\n",
       "      <td>4.0</td>\n",
       "      <td>1</td>\n",
       "      <td>False</td>\n",
       "      <td>False</td>\n",
       "      <td>False</td>\n",
       "      <td>False</td>\n",
       "    </tr>\n",
       "    <tr>\n",
       "      <th>9</th>\n",
       "      <td>Cyprus</td>\n",
       "      <td>6.3</td>\n",
       "      <td>4</td>\n",
       "      <td>False</td>\n",
       "      <td>False</td>\n",
       "      <td>True</td>\n",
       "      <td>False</td>\n",
       "    </tr>\n",
       "  </tbody>\n",
       "</table>\n",
       "</div>"
      ],
      "text/plain": [
       "        pais  cpi  regiao_numerico  regiao_Asia  regiao_EUA_e_Canada  \\\n",
       "0  Argentina  3.9                1        False                False   \n",
       "1  Australia  8.7                5        False                False   \n",
       "2    Austria  7.9                4        False                False   \n",
       "3    Belgium  7.1                4        False                False   \n",
       "4     Brazil  4.0                1        False                False   \n",
       "5     Canada  8.9                3        False                 True   \n",
       "6      Chile  6.2                1        False                False   \n",
       "7      China  2.5                2         True                False   \n",
       "8   Colombia  4.0                1        False                False   \n",
       "9     Cyprus  6.3                4        False                False   \n",
       "\n",
       "   regiao_Europa  regiao_Oceania  \n",
       "0          False           False  \n",
       "1          False            True  \n",
       "2           True           False  \n",
       "3           True           False  \n",
       "4          False           False  \n",
       "5          False           False  \n",
       "6          False           False  \n",
       "7          False           False  \n",
       "8          False           False  \n",
       "9           True           False  "
      ]
     },
     "execution_count": 14,
     "metadata": {},
     "output_type": "execute_result"
    }
   ],
   "source": [
    "df_corrupcao_dummies = pd.get_dummies(df_corrupcao, columns=['regiao'],\n",
    "                                      drop_first=True)\n",
    "\n",
    "df_corrupcao_dummies.head(10)"
   ]
  },
  {
   "cell_type": "code",
   "execution_count": 15,
   "id": "18485a10-a3a9-46e3-b716-485435719721",
   "metadata": {
    "tags": []
   },
   "outputs": [
    {
     "name": "stdout",
     "output_type": "stream",
     "text": [
      "<class 'pandas.core.frame.DataFrame'>\n",
      "RangeIndex: 50 entries, 0 to 49\n",
      "Data columns (total 4 columns):\n",
      " #   Column           Non-Null Count  Dtype  \n",
      "---  ------           --------------  -----  \n",
      " 0   pais             50 non-null     object \n",
      " 1   cpi              50 non-null     float64\n",
      " 2   regiao           50 non-null     object \n",
      " 3   regiao_numerico  50 non-null     int64  \n",
      "dtypes: float64(1), int64(1), object(2)\n",
      "memory usage: 1.7+ KB\n"
     ]
    }
   ],
   "source": [
    "df_corrupcao.info()"
   ]
  },
  {
   "cell_type": "code",
   "execution_count": 16,
   "id": "eeb32ff0-1947-46b7-9ebb-a4de6db73eb3",
   "metadata": {
    "tags": []
   },
   "outputs": [
    {
     "name": "stdout",
     "output_type": "stream",
     "text": [
      "<class 'pandas.core.frame.DataFrame'>\n",
      "RangeIndex: 50 entries, 0 to 49\n",
      "Data columns (total 4 columns):\n",
      " #   Column           Non-Null Count  Dtype   \n",
      "---  ------           --------------  -----   \n",
      " 0   pais             50 non-null     object  \n",
      " 1   cpi              50 non-null     float64 \n",
      " 2   regiao           50 non-null     category\n",
      " 3   regiao_numerico  50 non-null     int64   \n",
      "dtypes: category(1), float64(1), int64(1), object(1)\n",
      "memory usage: 1.6+ KB\n",
      "<class 'pandas.core.frame.DataFrame'>\n",
      "RangeIndex: 50 entries, 0 to 49\n",
      "Data columns (total 4 columns):\n",
      " #   Column           Non-Null Count  Dtype  \n",
      "---  ------           --------------  -----  \n",
      " 0   pais             50 non-null     object \n",
      " 1   cpi              50 non-null     float64\n",
      " 2   regiao           50 non-null     string \n",
      " 3   regiao_numerico  50 non-null     int64  \n",
      "dtypes: float64(1), int64(1), object(1), string(1)\n",
      "memory usage: 1.7+ KB\n"
     ]
    }
   ],
   "source": [
    "df_corrupcao['regiao'] = df_corrupcao['regiao'].astype(\"category\")\n",
    "df_corrupcao.info()\n",
    "df_corrupcao['regiao'] = df_corrupcao['regiao'].astype(\"string\")\n",
    "df_corrupcao.info()"
   ]
  },
  {
   "cell_type": "code",
   "execution_count": null,
   "id": "60b4d783-a35b-4fa2-bc08-bed3016137a8",
   "metadata": {},
   "outputs": [],
   "source": []
  },
  {
   "cell_type": "code",
   "execution_count": 17,
   "id": "93e602ba-7440-44d7-b0bf-660ef57de841",
   "metadata": {
    "tags": []
   },
   "outputs": [
    {
     "name": "stdout",
     "output_type": "stream",
     "text": [
      "                            OLS Regression Results                            \n",
      "==============================================================================\n",
      "Dep. Variable:                    cpi   R-squared:                       0.603\n",
      "Model:                            OLS   Adj. R-squared:                  0.568\n",
      "Method:                 Least Squares   F-statistic:                     17.09\n",
      "Date:                Sat, 28 Oct 2023   Prob (F-statistic):           1.37e-08\n",
      "Time:                        21:11:27   Log-Likelihood:                -96.620\n",
      "No. Observations:                  50   AIC:                             203.2\n",
      "Df Residuals:                      45   BIC:                             212.8\n",
      "Df Model:                           4                                         \n",
      "Covariance Type:            nonrobust                                         \n",
      "===============================================================================================\n",
      "                                  coef    std err          t      P>|t|      [0.025      0.975]\n",
      "-----------------------------------------------------------------------------------------------\n",
      "Intercept                       4.1800      0.788      5.306      0.000       2.593       5.767\n",
      "regiao_Asia[T.True]            -1.8506      0.896     -2.065      0.045      -3.655      -0.046\n",
      "regiao_EUA_e_Canada[T.True]     3.8200      1.474      2.592      0.013       0.852       6.788\n",
      "regiao_Europa[T.True]           2.0783      0.866      2.400      0.021       0.334       3.822\n",
      "regiao_Oceania[T.True]          4.8200      1.474      3.271      0.002       1.852       7.788\n",
      "==============================================================================\n",
      "Omnibus:                        1.205   Durbin-Watson:                   1.928\n",
      "Prob(Omnibus):                  0.547   Jarque-Bera (JB):                1.083\n",
      "Skew:                          -0.347   Prob(JB):                        0.582\n",
      "Kurtosis:                       2.804   Cond. No.                         9.35\n",
      "==============================================================================\n",
      "\n",
      "Notes:\n",
      "[1] Standard Errors assume that the covariance matrix of the errors is correctly specified.\n"
     ]
    }
   ],
   "source": [
    "modelo_corrupcao_dummies = sm.OLS.from_formula(\"cpi ~ regiao_Asia + regiao_EUA_e_Canada + regiao_Europa + regiao_Oceania\",\n",
    "                                               df_corrupcao_dummies).fit()\n",
    "print(modelo_corrupcao_dummies.summary())"
   ]
  },
  {
   "cell_type": "code",
   "execution_count": null,
   "id": "b2daeb0e-cc1e-4a78-b478-983a00bfdd1d",
   "metadata": {},
   "outputs": [],
   "source": [
    "import numpy as np \n",
    "import scipy.stats as stats\n",
    "import matplotlib.pyplot as plt\n",
    "\n",
    "unique_majors = sample_df['major'].unique()\n",
    "for major in unique_majors:\n",
    "    stats.probplot(sample_df[sample_df['major'] == major]['salary'], dist=\"norm\", plot=plt)\n",
    "    plt.title(\"Probability Plot - \" +  major)\n",
    "    plt.show()"
   ]
  },
  {
   "cell_type": "code",
   "execution_count": 18,
   "id": "880ccd0f-a20e-4d73-8bec-a3db31ce62cc",
   "metadata": {
    "tags": []
   },
   "outputs": [
    {
     "name": "stdout",
     "output_type": "stream",
     "text": [
      "Fórmula utilizada:  cpi ~ regiao_Asia + regiao_EUA_e_Canada + regiao_Europa + regiao_Oceania\n"
     ]
    }
   ],
   "source": [
    "lista_colunas = list(df_corrupcao_dummies.drop(columns=['cpi','pais','regiao_numerico']).columns)\n",
    "\n",
    "formula_dummies_modelo = ' + '.join(lista_colunas)\n",
    "\n",
    "formula_dummies_modelo = \"cpi ~ \" + formula_dummies_modelo\n",
    "\n",
    "print(\"Fórmula utilizada: \",formula_dummies_modelo)"
   ]
  },
  {
   "cell_type": "code",
   "execution_count": 19,
   "id": "e219b60d-f59c-4cdd-b93e-c7309956cb5a",
   "metadata": {
    "tags": []
   },
   "outputs": [
    {
     "name": "stdout",
     "output_type": "stream",
     "text": [
      "                            OLS Regression Results                            \n",
      "==============================================================================\n",
      "Dep. Variable:                    cpi   R-squared:                       0.603\n",
      "Model:                            OLS   Adj. R-squared:                  0.568\n",
      "Method:                 Least Squares   F-statistic:                     17.09\n",
      "Date:                Sat, 28 Oct 2023   Prob (F-statistic):           1.37e-08\n",
      "Time:                        21:11:27   Log-Likelihood:                -96.620\n",
      "No. Observations:                  50   AIC:                             203.2\n",
      "Df Residuals:                      45   BIC:                             212.8\n",
      "Df Model:                           4                                         \n",
      "Covariance Type:            nonrobust                                         \n",
      "===============================================================================================\n",
      "                                  coef    std err          t      P>|t|      [0.025      0.975]\n",
      "-----------------------------------------------------------------------------------------------\n",
      "Intercept                       4.1800      0.788      5.306      0.000       2.593       5.767\n",
      "regiao_Asia[T.True]            -1.8506      0.896     -2.065      0.045      -3.655      -0.046\n",
      "regiao_EUA_e_Canada[T.True]     3.8200      1.474      2.592      0.013       0.852       6.788\n",
      "regiao_Europa[T.True]           2.0783      0.866      2.400      0.021       0.334       3.822\n",
      "regiao_Oceania[T.True]          4.8200      1.474      3.271      0.002       1.852       7.788\n",
      "==============================================================================\n",
      "Omnibus:                        1.205   Durbin-Watson:                   1.928\n",
      "Prob(Omnibus):                  0.547   Jarque-Bera (JB):                1.083\n",
      "Skew:                          -0.347   Prob(JB):                        0.582\n",
      "Kurtosis:                       2.804   Cond. No.                         9.35\n",
      "==============================================================================\n",
      "\n",
      "Notes:\n",
      "[1] Standard Errors assume that the covariance matrix of the errors is correctly specified.\n"
     ]
    }
   ],
   "source": [
    "modelo_corrupcao_dummies = sm.OLS.from_formula(formula_dummies_modelo,\n",
    "                                               df_corrupcao_dummies).fit()\n",
    "\n",
    "#Parâmetros do modelo\n",
    "print(modelo_corrupcao_dummies.summary())"
   ]
  },
  {
   "cell_type": "code",
   "execution_count": 20,
   "id": "35e1e243-cab6-4da3-9eeb-faf2d53ef1d3",
   "metadata": {
    "tags": []
   },
   "outputs": [
    {
     "data": {
      "text/html": [
       "<div>\n",
       "<style scoped>\n",
       "    .dataframe tbody tr th:only-of-type {\n",
       "        vertical-align: middle;\n",
       "    }\n",
       "\n",
       "    .dataframe tbody tr th {\n",
       "        vertical-align: top;\n",
       "    }\n",
       "\n",
       "    .dataframe thead th {\n",
       "        text-align: right;\n",
       "    }\n",
       "</style>\n",
       "<table border=\"1\" class=\"dataframe\">\n",
       "  <thead>\n",
       "    <tr style=\"text-align: right;\">\n",
       "      <th></th>\n",
       "      <th>pais</th>\n",
       "      <th>cpi</th>\n",
       "      <th>regiao_numerico</th>\n",
       "      <th>regiao_Asia</th>\n",
       "      <th>regiao_EUA_e_Canada</th>\n",
       "      <th>regiao_Europa</th>\n",
       "      <th>regiao_Oceania</th>\n",
       "      <th>fitted</th>\n",
       "    </tr>\n",
       "  </thead>\n",
       "  <tbody>\n",
       "    <tr>\n",
       "      <th>0</th>\n",
       "      <td>Argentina</td>\n",
       "      <td>3.9</td>\n",
       "      <td>1</td>\n",
       "      <td>False</td>\n",
       "      <td>False</td>\n",
       "      <td>False</td>\n",
       "      <td>False</td>\n",
       "      <td>4.180000</td>\n",
       "    </tr>\n",
       "    <tr>\n",
       "      <th>1</th>\n",
       "      <td>Australia</td>\n",
       "      <td>8.7</td>\n",
       "      <td>5</td>\n",
       "      <td>False</td>\n",
       "      <td>False</td>\n",
       "      <td>False</td>\n",
       "      <td>True</td>\n",
       "      <td>9.000000</td>\n",
       "    </tr>\n",
       "    <tr>\n",
       "      <th>2</th>\n",
       "      <td>Austria</td>\n",
       "      <td>7.9</td>\n",
       "      <td>4</td>\n",
       "      <td>False</td>\n",
       "      <td>False</td>\n",
       "      <td>True</td>\n",
       "      <td>False</td>\n",
       "      <td>6.258333</td>\n",
       "    </tr>\n",
       "    <tr>\n",
       "      <th>3</th>\n",
       "      <td>Belgium</td>\n",
       "      <td>7.1</td>\n",
       "      <td>4</td>\n",
       "      <td>False</td>\n",
       "      <td>False</td>\n",
       "      <td>True</td>\n",
       "      <td>False</td>\n",
       "      <td>6.258333</td>\n",
       "    </tr>\n",
       "    <tr>\n",
       "      <th>4</th>\n",
       "      <td>Brazil</td>\n",
       "      <td>4.0</td>\n",
       "      <td>1</td>\n",
       "      <td>False</td>\n",
       "      <td>False</td>\n",
       "      <td>False</td>\n",
       "      <td>False</td>\n",
       "      <td>4.180000</td>\n",
       "    </tr>\n",
       "  </tbody>\n",
       "</table>\n",
       "</div>"
      ],
      "text/plain": [
       "        pais  cpi  regiao_numerico  regiao_Asia  regiao_EUA_e_Canada  \\\n",
       "0  Argentina  3.9                1        False                False   \n",
       "1  Australia  8.7                5        False                False   \n",
       "2    Austria  7.9                4        False                False   \n",
       "3    Belgium  7.1                4        False                False   \n",
       "4     Brazil  4.0                1        False                False   \n",
       "\n",
       "   regiao_Europa  regiao_Oceania    fitted  \n",
       "0          False           False  4.180000  \n",
       "1          False            True  9.000000  \n",
       "2           True           False  6.258333  \n",
       "3           True           False  6.258333  \n",
       "4          False           False  4.180000  "
      ]
     },
     "execution_count": 20,
     "metadata": {},
     "output_type": "execute_result"
    }
   ],
   "source": [
    "# In[ ]: Plotando o modelo_corrupcao_dummies de forma interpolada\n",
    "\n",
    "#Fitted values do 'modelo_corrupcao_dummies' no dataset 'df_corrupcao_dummies'\n",
    "df_corrupcao_dummies['fitted'] = modelo_corrupcao_dummies.fittedvalues\n",
    "df_corrupcao_dummies.head()"
   ]
  },
  {
   "cell_type": "code",
   "execution_count": 21,
   "id": "ba033862-e140-4d73-af39-7a63fef22079",
   "metadata": {
    "tags": []
   },
   "outputs": [
    {
     "data": {
      "image/png": "[encoded data removed]",
      "text/plain": [
       "<Figure size 720x720 with 1 Axes>"
      ]
     },
     "metadata": {
      "needs_background": "light"
     },
     "output_type": "display_data"
    }
   ],
   "source": [
    "#Gráfico\n",
    "from scipy import interpolate\n",
    "\n",
    "plt.figure(figsize=(10,10))\n",
    "\n",
    "df2 = df_corrupcao_dummies[['regiao_numerico','fitted']].groupby(['regiao_numerico']).median().reset_index()\n",
    "x = df2['regiao_numerico']\n",
    "y = df2['fitted']\n",
    "\n",
    "tck = interpolate.splrep(x, y, k=2)\n",
    "xnew = np.arange(1,5,0.1) \n",
    "ynew = interpolate.splev(xnew, tck, der=0)\n",
    "\n",
    "def label_point(x, y, val, ax):\n",
    "    a = pd.concat({'x': x, 'y': y, 'val': val}, axis=1)\n",
    "    for i, point in a.iterrows():\n",
    "        ax.text(point['x']+.02, point['y'], str(point['val']) + \" \" + str(point['y']))\n",
    "\n",
    "plt.scatter(df_corrupcao_dummies['regiao_numerico'], df_corrupcao_dummies['cpi'])\n",
    "plt.scatter(df_corrupcao_dummies['regiao_numerico'], df_corrupcao_dummies['fitted'])\n",
    "plt.plot(xnew, ynew)\n",
    "plt.title('Resultado da ponderação arbitrária')\n",
    "plt.xlabel('Região')\n",
    "plt.ylabel('Corruption Perception Index')\n",
    "label_point(x = df_corrupcao['regiao_numerico'],\n",
    "            y = df_corrupcao['cpi'],\n",
    "            val = df_corrupcao['pais'],\n",
    "            ax = plt.gca())"
   ]
  },
  {
   "cell_type": "code",
   "execution_count": null,
   "id": "7412954d-bbb1-4b25-b369-dc486db9de41",
   "metadata": {},
   "outputs": [],
   "source": []
  },
  {
   "cell_type": "code",
   "execution_count": null,
   "id": "9ef85eb9-ed94-41c1-9202-35ca5b3c99c0",
   "metadata": {},
   "outputs": [],
   "source": []
  },
  {
   "cell_type": "code",
   "execution_count": null,
   "id": "2af13a6b-6791-43c7-8e73-33bdc15f6972",
   "metadata": {},
   "outputs": [],
   "source": []
  },
  {
   "cell_type": "code",
   "execution_count": null,
   "id": "219d229d-ec5d-42b5-ba81-aa3df79a3dd6",
   "metadata": {},
   "outputs": [],
   "source": []
  }
 ],
 "metadata": {
  "kernelspec": {
   "display_name": "Python 3",
   "language": "python",
   "name": "python3"
  },
  "language_info": {
   "codemirror_mode": {
    "name": "ipython",
    "version": 3
   },
   "file_extension": ".py",
   "mimetype": "text/x-python",
   "name": "python",
   "nbconvert_exporter": "python",
   "pygments_lexer": "ipython3",
   "version": "3.9.13"
  }
 },
 "nbformat": 4,
 "nbformat_minor": 5
}
