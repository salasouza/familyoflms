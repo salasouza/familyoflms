{
 "cells": [
  {
   "cell_type": "markdown",
   "id": "1c663549-186f-4681-b28b-127af99e1c91",
   "metadata": {},
   "source": [
    "<h1>ÍNDICE</h1>"
   ]
  },
  {
   "cell_type": "markdown",
   "id": "de2dd645-de8f-4432-8db0-4205f0a01cbc",
   "metadata": {},
   "source": [
    "[1. Simples Linear Regression](http://127.0.0.1:8888/lab/tree/notebooks/v1_simples_linear_regression.ipynb)\n",
    "[2. Multiple Linear Regression](http://127.0.0.1:8888/lab/tree/notebooks/v1_multiple_linear_regression.ipynb)\n",
    "[3. Logistic Regression]()"
   ]
  }
 ],
 "metadata": {
  "kernelspec": {
   "display_name": "Python 3",
   "language": "python",
   "name": "python3"
  },
  "language_info": {
   "codemirror_mode": {
    "name": "ipython",
    "version": 3
   },
   "file_extension": ".py",
   "mimetype": "text/x-python",
   "name": "python",
   "nbconvert_exporter": "python",
   "pygments_lexer": "ipython3",
   "version": "3.9.13"
  }
 },
 "nbformat": 4,
 "nbformat_minor": 5
}
