{
 "cells": [
  {
   "cell_type": "markdown",
   "id": "5abdf9f5-cb32-4d72-b1b0-6f17cbe25d97",
   "metadata": {},
   "source": [
    "<h1>Simples Linear Model<h/1>"
   ]
  },
  {
   "cell_type": "markdown",
   "id": "3756f1c0-26b1-4ddc-b657-36374fe1b11e",
   "metadata": {},
   "source": [
    "The objetive of this notebook is to explore the fundamentals of simple linear model, in their basic form the linear regression to explore the linear relation between two variables, one to call explanation variable represented by axis X and predictor variable represented by axis y. Here there is an resume of that principles for analysis of regression.\n",
    "    \n",
    "1. Must be represented cause and effect relationship\n",
    "\n",
    "2. After to decide that direction of variables for cause and effect is necessary to describe the relation by mathematic function: $y=f(x)$\n",
    "\n",
    "3. The basic form of linear regression is the simple linear function: $f(x) = ax+b$ and formal way can write as $Y = \\beta_0 +\\beta_1X$ where $\\beta_0$ is the intercept and $\\beta_1$ is the inclination. The $\\beta_0$ and $\\beta_1$ are two parameters that resulted in equation of the straight line.\n",
    "\n",
    "4. The inclination of straight line is defined as $\\frac{\\Delta Y}{\\Delta X}$, where $\\Delta Y$ is variation the $Y$ in relation variation in $X$.\n",
    "\n",
    "5. The formulation mathematical for differents observations resulted in differents values of $Y$ as results this, is necessary additional term of equation transformed in statistical formulation: $Y_i = \\beta_0 + \\beta_iX_i + \\varepsilon_i$, where $i$ is the quantity of measures ($i$ = 1 until $n$).\n",
    "\n",
    "6. The way for otimization is using OLS <b>(ordinared least squared)</b> defined as $d_i^2=(Y_i-\\hat{Y_i})^2$ but we need that sum of alls values for adjusted the values, so the equation to evolued for: $$SQR=\\sum_{i=1}^{n}(Y_i-\\hat{Y_i})^2$$\n",
    "\n",
    "7. The hypothesis null is: $Y_i=\\beta_0+\\varepsilon$ where $x=0$\n",
    "\n",
    "8. The alternative hipothesis is: $Y_i = \\beta_0 + \\beta_iX_i + \\varepsilon$"
   ]
  },
  {
   "cell_type": "markdown",
   "id": "65a3a2a7-71f2-40ca-bcc7-dfe87a4a8c42",
   "metadata": {},
   "source": [
    "<div>\n",
    "source of data: https://www.kaggle.com/datasets/saquib7hussain/experience-salary-dataset\n",
    "</div>"
   ]
  },
  {
   "cell_type": "markdown",
   "id": "d95d1128-d7ce-41c8-b86e-2c3e463471d3",
   "metadata": {},
   "source": [
    "<h2>Import dependencies</h2>"
   ]
  },
  {
   "cell_type": "code",
   "execution_count": 1,
   "id": "db245223-0fc9-4654-8ab1-bb1d2f131e54",
   "metadata": {
    "tags": []
   },
   "outputs": [],
   "source": [
    "import pandas as pd \n",
    "import seaborn as sns \n",
    "import matplotlib.pyplot as plt \n",
    "import statsmodels.api as sm \n",
    "import numpy as np \n",
    "from statsmodels.iolib.summary2 import summary_col\n",
    "from statsmodels.formula.api import ols\n",
    "from skimage import io\n",
    "import plotly.graph_objs as go\n",
    "from scipy.stats import pearsonr\n",
    "from sklearn.preprocessing import LabelEncoder\n",
    "import warnings"
   ]
  },
  {
   "cell_type": "markdown",
   "id": "09dc8c73-2a0c-4624-b2cd-760201b08cd3",
   "metadata": {
    "tags": []
   },
   "source": [
    "<h2>Settings</h2>"
   ]
  },
  {
   "cell_type": "code",
   "execution_count": 2,
   "id": "10ff0fb7-b6be-4b64-ac68-0e2dfb402ec3",
   "metadata": {
    "tags": []
   },
   "outputs": [],
   "source": [
    "warnings.filterwarnings(\"ignore\")\n",
    "\n",
    "def setup_matplot(titlesize=int(14),labelsize=int(12)):\n",
    "    import matplotlib.pyplot as plt\n",
    "    plt.rcParams['figure.figsize'] = [8,6]\n",
    "    plt.rcParams['figure.titlesize'] = titlesize\n",
    "    plt.rcParams['figure.labelsize'] = labelsize\n",
    "    return(plt)\n",
    "plt = setup_matplot()"
   ]
  },
  {
   "cell_type": "markdown",
   "id": "0f2690d3-e50f-4c1d-bd26-3030610b1a89",
   "metadata": {
    "tags": []
   },
   "source": [
    "<h3>Enter of data</h3>"
   ]
  },
  {
   "cell_type": "code",
   "execution_count": 3,
   "id": "e7a873ba-3d1a-4e27-b366-45ad68655b3f",
   "metadata": {
    "tags": []
   },
   "outputs": [
    {
     "data": {
      "text/html": [
       "<div>\n",
       "<style scoped>\n",
       "    .dataframe tbody tr th:only-of-type {\n",
       "        vertical-align: middle;\n",
       "    }\n",
       "\n",
       "    .dataframe tbody tr th {\n",
       "        vertical-align: top;\n",
       "    }\n",
       "\n",
       "    .dataframe thead th {\n",
       "        text-align: right;\n",
       "    }\n",
       "</style>\n",
       "<table border=\"1\" class=\"dataframe\">\n",
       "  <thead>\n",
       "    <tr style=\"text-align: right;\">\n",
       "      <th></th>\n",
       "      <th>exp(in months)</th>\n",
       "      <th>salary(in thousands)</th>\n",
       "    </tr>\n",
       "  </thead>\n",
       "  <tbody>\n",
       "    <tr>\n",
       "      <th>0</th>\n",
       "      <td>18.290293</td>\n",
       "      <td>16.521825</td>\n",
       "    </tr>\n",
       "    <tr>\n",
       "      <th>1</th>\n",
       "      <td>17.023407</td>\n",
       "      <td>11.666234</td>\n",
       "    </tr>\n",
       "    <tr>\n",
       "      <th>2</th>\n",
       "      <td>26.343613</td>\n",
       "      <td>23.167255</td>\n",
       "    </tr>\n",
       "  </tbody>\n",
       "</table>\n",
       "</div>"
      ],
      "text/plain": [
       "   exp(in months)  salary(in thousands)\n",
       "0       18.290293             16.521825\n",
       "1       17.023407             11.666234\n",
       "2       26.343613             23.167255"
      ]
     },
     "execution_count": 3,
     "metadata": {},
     "output_type": "execute_result"
    }
   ],
   "source": [
    "df = pd.read_csv(\"../database/experience_salary.csv\", \n",
    "                 delimiter=',')\n",
    "\n",
    "df.head(3)"
   ]
  },
  {
   "cell_type": "code",
   "execution_count": 4,
   "id": "912e822e-a277-4f4e-b009-dd2bc43e0d69",
   "metadata": {
    "tags": []
   },
   "outputs": [
    {
     "data": {
      "text/plain": [
       "Index(['exp(in months)', 'salary(in thousands)'], dtype='object')"
      ]
     },
     "execution_count": 4,
     "metadata": {},
     "output_type": "execute_result"
    }
   ],
   "source": [
    "df.columns"
   ]
  },
  {
   "cell_type": "code",
   "execution_count": 5,
   "id": "fb5f240e-a5ee-494c-89e9-8e63a831a604",
   "metadata": {
    "tags": []
   },
   "outputs": [],
   "source": [
    "df = df.rename(\n",
    "    columns={'exp(in months)':'time',\n",
    "             'salary(in thousands)':'salary'})"
   ]
  },
  {
   "cell_type": "code",
   "execution_count": 6,
   "id": "08426049-f049-4c21-afb3-e4eb0e91a0f1",
   "metadata": {
    "tags": []
   },
   "outputs": [
    {
     "name": "stdout",
     "output_type": "stream",
     "text": [
      "<class 'pandas.core.frame.DataFrame'>\n",
      "RangeIndex: 1000 entries, 0 to 999\n",
      "Data columns (total 2 columns):\n",
      " #   Column  Non-Null Count  Dtype  \n",
      "---  ------  --------------  -----  \n",
      " 0   time    1000 non-null   float64\n",
      " 1   salary  1000 non-null   float64\n",
      "dtypes: float64(2)\n",
      "memory usage: 15.8 KB\n"
     ]
    }
   ],
   "source": [
    "df.info()"
   ]
  },
  {
   "cell_type": "code",
   "execution_count": 7,
   "id": "42377a91-1d21-4686-a896-8ccdc42ab61e",
   "metadata": {
    "tags": []
   },
   "outputs": [
    {
     "data": {
      "text/html": [
       "<div>\n",
       "<style scoped>\n",
       "    .dataframe tbody tr th:only-of-type {\n",
       "        vertical-align: middle;\n",
       "    }\n",
       "\n",
       "    .dataframe tbody tr th {\n",
       "        vertical-align: top;\n",
       "    }\n",
       "\n",
       "    .dataframe thead th {\n",
       "        text-align: right;\n",
       "    }\n",
       "</style>\n",
       "<table border=\"1\" class=\"dataframe\">\n",
       "  <thead>\n",
       "    <tr style=\"text-align: right;\">\n",
       "      <th></th>\n",
       "      <th>time</th>\n",
       "      <th>salary</th>\n",
       "    </tr>\n",
       "  </thead>\n",
       "  <tbody>\n",
       "    <tr>\n",
       "      <th>0</th>\n",
       "      <td>18.290293</td>\n",
       "      <td>16.521825</td>\n",
       "    </tr>\n",
       "    <tr>\n",
       "      <th>1</th>\n",
       "      <td>17.023407</td>\n",
       "      <td>11.666234</td>\n",
       "    </tr>\n",
       "    <tr>\n",
       "      <th>2</th>\n",
       "      <td>26.343613</td>\n",
       "      <td>23.167255</td>\n",
       "    </tr>\n",
       "    <tr>\n",
       "      <th>3</th>\n",
       "      <td>19.105834</td>\n",
       "      <td>20.877145</td>\n",
       "    </tr>\n",
       "    <tr>\n",
       "      <th>4</th>\n",
       "      <td>27.742516</td>\n",
       "      <td>23.166236</td>\n",
       "    </tr>\n",
       "    <tr>\n",
       "      <th>...</th>\n",
       "      <td>...</td>\n",
       "      <td>...</td>\n",
       "    </tr>\n",
       "    <tr>\n",
       "      <th>995</th>\n",
       "      <td>22.161741</td>\n",
       "      <td>24.666502</td>\n",
       "    </tr>\n",
       "    <tr>\n",
       "      <th>996</th>\n",
       "      <td>32.266497</td>\n",
       "      <td>24.160270</td>\n",
       "    </tr>\n",
       "    <tr>\n",
       "      <th>997</th>\n",
       "      <td>17.039030</td>\n",
       "      <td>19.903797</td>\n",
       "    </tr>\n",
       "    <tr>\n",
       "      <th>998</th>\n",
       "      <td>25.222124</td>\n",
       "      <td>21.974413</td>\n",
       "    </tr>\n",
       "    <tr>\n",
       "      <th>999</th>\n",
       "      <td>16.418028</td>\n",
       "      <td>19.634787</td>\n",
       "    </tr>\n",
       "  </tbody>\n",
       "</table>\n",
       "<p>1000 rows × 2 columns</p>\n",
       "</div>"
      ],
      "text/plain": [
       "          time     salary\n",
       "0    18.290293  16.521825\n",
       "1    17.023407  11.666234\n",
       "2    26.343613  23.167255\n",
       "3    19.105834  20.877145\n",
       "4    27.742516  23.166236\n",
       "..         ...        ...\n",
       "995  22.161741  24.666502\n",
       "996  32.266497  24.160270\n",
       "997  17.039030  19.903797\n",
       "998  25.222124  21.974413\n",
       "999  16.418028  19.634787\n",
       "\n",
       "[1000 rows x 2 columns]"
      ]
     },
     "metadata": {},
     "output_type": "display_data"
    }
   ],
   "source": [
    "display(df)"
   ]
  },
  {
   "cell_type": "code",
   "execution_count": 8,
   "id": "4cece273-a8da-46e9-92a4-832c21ebb8b9",
   "metadata": {
    "tags": []
   },
   "outputs": [
    {
     "data": {
      "image/png": "[encoded data removed]",
      "text/plain": [
       "<Figure size 432x288 with 1 Axes>"
      ]
     },
     "metadata": {
      "needs_background": "light"
     },
     "output_type": "display_data"
    }
   ],
   "source": [
    "sns.regplot(data=df, x='time', y='salary', ci=False, color='purple')\n",
    "plt.xlabel('Time (Months)', fontsize=20)\n",
    "plt.ylabel('Salary', fontsize=20)\n",
    "plt.show()"
   ]
  },
  {
   "cell_type": "code",
   "execution_count": 9,
   "id": "82c9a198-28d2-447a-8b6f-5e612cde5a4a",
   "metadata": {},
   "outputs": [
    {
     "data": {
      "image/png": "[encoded data removed]",
      "text/plain": [
       "<Figure size 432x288 with 1 Axes>"
      ]
     },
     "metadata": {
      "needs_background": "light"
     },
     "output_type": "display_data"
    }
   ],
   "source": [
    "plt.hist(df['salary'])\n",
    "plt.title('Histogram of salary')\n",
    "plt.show()"
   ]
  },
  {
   "cell_type": "markdown",
   "id": "d31acfe1-d5b6-41ac-9410-9262c6ef8821",
   "metadata": {},
   "source": [
    "<h2>Applying of model</h2>"
   ]
  },
  {
   "cell_type": "code",
   "execution_count": 10,
   "id": "e562a341-90a2-4fd8-a48c-a9247fff664c",
   "metadata": {
    "tags": []
   },
   "outputs": [
    {
     "name": "stdout",
     "output_type": "stream",
     "text": [
      "                            OLS Regression Results                            \n",
      "==============================================================================\n",
      "Dep. Variable:                 salary   R-squared:                       0.658\n",
      "Model:                            OLS   Adj. R-squared:                  0.657\n",
      "Method:                 Least Squares   F-statistic:                     1917.\n",
      "Date:                Mon, 20 Nov 2023   Prob (F-statistic):          1.51e-234\n",
      "Time:                        17:23:52   Log-Likelihood:                -3062.3\n",
      "No. Observations:                1000   AIC:                             6129.\n",
      "Df Residuals:                     998   BIC:                             6138.\n",
      "Df Model:                           1                                         \n",
      "Covariance Type:            nonrobust                                         \n",
      "==============================================================================\n",
      "                 coef    std err          t      P>|t|      [0.025      0.975]\n",
      "------------------------------------------------------------------------------\n",
      "Intercept      5.1987      0.518     10.034      0.000       4.182       6.215\n",
      "time           0.8228      0.019     43.787      0.000       0.786       0.860\n",
      "==============================================================================\n",
      "Omnibus:                        3.580   Durbin-Watson:                   1.907\n",
      "Prob(Omnibus):                  0.167   Jarque-Bera (JB):                3.592\n",
      "Skew:                          -0.146   Prob(JB):                        0.166\n",
      "Kurtosis:                       2.972   Cond. No.                         87.3\n",
      "==============================================================================\n",
      "\n",
      "Notes:\n",
      "[1] Standard Errors assume that the covariance matrix of the errors is correctly specified.\n"
     ]
    }
   ],
   "source": [
    "# Model of estimate\n",
    "\n",
    "model = sm.OLS.from_formula(\"salary ~time\", df).fit()\n",
    "\n",
    "print(model.summary())"
   ]
  },
  {
   "cell_type": "code",
   "execution_count": 11,
   "id": "d458de40-719a-4c1b-afad-950e9562690f",
   "metadata": {
    "tags": []
   },
   "outputs": [
    {
     "name": "stdout",
     "output_type": "stream",
     "text": [
      "                 Results: Ordinary least squares\n",
      "==================================================================\n",
      "Model:              OLS              Adj. R-squared:     0.657    \n",
      "Dependent Variable: salary           AIC:                6128.5435\n",
      "Date:               2023-11-20 17:23 BIC:                6138.3590\n",
      "No. Observations:   1000             Log-Likelihood:     -3062.3  \n",
      "Df Model:           1                F-statistic:        1917.    \n",
      "Df Residuals:       998              Prob (F-statistic): 1.51e-234\n",
      "R-squared:          0.658            Scale:              26.807   \n",
      "--------------------------------------------------------------------\n",
      "              Coef.    Std.Err.      t      P>|t|    [0.025   0.975]\n",
      "--------------------------------------------------------------------\n",
      "Intercept     5.1987     0.5181   10.0341   0.0000   4.1820   6.2154\n",
      "time          0.8228     0.0188   43.7873   0.0000   0.7860   0.8597\n",
      "------------------------------------------------------------------\n",
      "Omnibus:              3.580         Durbin-Watson:           1.907\n",
      "Prob(Omnibus):        0.167         Jarque-Bera (JB):        3.592\n",
      "Skew:                 -0.146        Prob(JB):                0.166\n",
      "Kurtosis:             2.972         Condition No.:           87   \n",
      "==================================================================\n",
      "Notes:\n",
      "[1] Standard Errors assume that the covariance matrix of the\n",
      "errors is correctly specified.\n"
     ]
    }
   ],
   "source": [
    "print(model.summary2())"
   ]
  },
  {
   "cell_type": "code",
   "execution_count": 12,
   "id": "15dfb85a-bba5-46b7-bbfe-8401edf0dfb8",
   "metadata": {
    "tags": []
   },
   "outputs": [
    {
     "data": {
      "text/plain": [
       "Intercept    5.198719\n",
       "time         0.822847\n",
       "dtype: float64"
      ]
     },
     "execution_count": 12,
     "metadata": {},
     "output_type": "execute_result"
    }
   ],
   "source": [
    "model.params"
   ]
  },
  {
   "cell_type": "markdown",
   "id": "c06e4113-57b8-4b27-9b98-bbaae2d24fbd",
   "metadata": {},
   "source": [
    "<h2>Analysis of Variance</h2>"
   ]
  },
  {
   "cell_type": "code",
   "execution_count": 13,
   "id": "77fc0278-eb1e-405a-998a-ab8c667957ad",
   "metadata": {
    "tags": []
   },
   "outputs": [
    {
     "name": "stdout",
     "output_type": "stream",
     "text": [
      "             df        sum_sq       mean_sq            F         PR(>F)\n",
      "time        1.0  51398.031222  51398.031222  1917.325823  1.514654e-234\n",
      "Residual  998.0  26753.530646     26.807145          NaN            NaN\n",
      "                sum_sq     df            F         PR(>F)\n",
      "time      51398.031222    1.0  1917.325823  1.514654e-234\n",
      "Residual  26753.530646  998.0          NaN            NaN\n",
      "                 sum_sq     df            F         PR(>F)\n",
      "Intercept   2699.017494    1.0   100.682766   1.224271e-22\n",
      "time       51398.031222    1.0  1917.325823  1.514654e-234\n",
      "Residual   26753.530646  998.0          NaN            NaN\n"
     ]
    }
   ],
   "source": [
    "model_aov = ols(\"salary ~time\", data=df).fit()\n",
    "\n",
    "print(sm.stats.anova_lm(model_aov))\n",
    "print(sm.stats.anova_lm(model_aov, typ=2))\n",
    "print(sm.stats.anova_lm(model_aov, typ=3))"
   ]
  },
  {
   "cell_type": "markdown",
   "id": "90cd4129-c264-4856-adac-4da251d13046",
   "metadata": {},
   "source": [
    "<h2>Extraction fitted values and residuals</h2>"
   ]
  },
  {
   "cell_type": "code",
   "execution_count": 14,
   "id": "92da7ab1-91f4-42e7-a242-f41b247c7612",
   "metadata": {
    "tags": []
   },
   "outputs": [
    {
     "data": {
      "text/html": [
       "<div>\n",
       "<style scoped>\n",
       "    .dataframe tbody tr th:only-of-type {\n",
       "        vertical-align: middle;\n",
       "    }\n",
       "\n",
       "    .dataframe tbody tr th {\n",
       "        vertical-align: top;\n",
       "    }\n",
       "\n",
       "    .dataframe thead th {\n",
       "        text-align: right;\n",
       "    }\n",
       "</style>\n",
       "<table border=\"1\" class=\"dataframe\">\n",
       "  <thead>\n",
       "    <tr style=\"text-align: right;\">\n",
       "      <th></th>\n",
       "      <th>time</th>\n",
       "      <th>salary</th>\n",
       "      <th>yhat</th>\n",
       "      <th>error</th>\n",
       "    </tr>\n",
       "  </thead>\n",
       "  <tbody>\n",
       "    <tr>\n",
       "      <th>0</th>\n",
       "      <td>18.290293</td>\n",
       "      <td>16.521825</td>\n",
       "      <td>20.248825</td>\n",
       "      <td>-3.727000</td>\n",
       "    </tr>\n",
       "    <tr>\n",
       "      <th>1</th>\n",
       "      <td>17.023407</td>\n",
       "      <td>11.666234</td>\n",
       "      <td>19.206372</td>\n",
       "      <td>-7.540138</td>\n",
       "    </tr>\n",
       "    <tr>\n",
       "      <th>2</th>\n",
       "      <td>26.343613</td>\n",
       "      <td>23.167255</td>\n",
       "      <td>26.875473</td>\n",
       "      <td>-3.708218</td>\n",
       "    </tr>\n",
       "  </tbody>\n",
       "</table>\n",
       "</div>"
      ],
      "text/plain": [
       "        time     salary       yhat     error\n",
       "0  18.290293  16.521825  20.248825 -3.727000\n",
       "1  17.023407  11.666234  19.206372 -7.540138\n",
       "2  26.343613  23.167255  26.875473 -3.708218"
      ]
     },
     "execution_count": 14,
     "metadata": {},
     "output_type": "execute_result"
    }
   ],
   "source": [
    "df['yhat'] = model.fittedvalues\n",
    "df['error'] = model.resid\n",
    "\n",
    "df.head(3)"
   ]
  },
  {
   "cell_type": "markdown",
   "id": "24bca028-8176-4db8-bdf1-4e3b43aa5a17",
   "metadata": {},
   "source": [
    "<h2>Verify prediction</h2>"
   ]
  },
  {
   "cell_type": "code",
   "execution_count": 15,
   "id": "9a3dae50-6bef-4823-ac6e-b749bf6c13a3",
   "metadata": {},
   "outputs": [
    {
     "data": {
      "image/png": "[encoded data removed]",
      "text/plain": [
       "<Figure size 432x288 with 1 Axes>"
      ]
     },
     "metadata": {
      "needs_background": "light"
     },
     "output_type": "display_data"
    }
   ],
   "source": [
    "# plt.figure(figsize=(10,8))\n",
    "sns.regplot(data=df, x='salary', y='yhat', ci=False, color='purple')\n",
    "plt.xlabel('True Salary', fontsize=20)\n",
    "plt.ylabel('Predict Salary', fontsize=20)\n",
    "plt.title('True values x Predict values')\n",
    "# plt.legend(['Valores Reais', 'Fitted Values'], fontsize=24)\n",
    "plt.show()"
   ]
  },
  {
   "cell_type": "code",
   "execution_count": 16,
   "id": "0346af0f-651c-403d-85da-7ff4d64d9779",
   "metadata": {},
   "outputs": [
    {
     "data": {
      "image/png": "[encoded data removed]",
      "text/plain": [
       "<Figure size 432x288 with 1 Axes>"
      ]
     },
     "metadata": {
      "needs_background": "light"
     },
     "output_type": "display_data"
    }
   ],
   "source": [
    "plt.plot(df['salary'], label='Real Salary')\n",
    "plt.plot(df['yhat'], label='Predict Salary')\n",
    "plt.title('Real salary x Predict salary\\n')\n",
    "plt.legend()\n",
    "plt.show()"
   ]
  },
  {
   "cell_type": "code",
   "execution_count": 17,
   "id": "e0b1e579-e116-4cbe-8df8-ff821a1c035b",
   "metadata": {},
   "outputs": [
    {
     "data": {
      "image/png": "[encoded data removed]",
      "text/plain": [
       "<Figure size 432x288 with 1 Axes>"
      ]
     },
     "metadata": {
      "needs_background": "light"
     },
     "output_type": "display_data"
    }
   ],
   "source": [
    "plt.plot(df['error'], label='error')\n",
    "plt.legend(loc='best')\n",
    "plt.show()"
   ]
  },
  {
   "cell_type": "markdown",
   "id": "8eaaec09-773e-4f60-a32e-d434ab573302",
   "metadata": {},
   "source": [
    "<h1>Apply Regression Linear for Machine Learning</h1>"
   ]
  },
  {
   "cell_type": "markdown",
   "id": "640dfcff-2edb-4227-a0e0-85cf5c907fb9",
   "metadata": {},
   "source": [
    "Protocol for applying Machine Learning\n",
    "\n",
    "1. Buiding dataset $X$ and $Y$ \n",
    "2. Split dataset for training and testing\n",
    "3. Sometimes is necessary to normalizer, standardizer or scaler of dataset\n",
    "4. Building of model\n",
    "5. Training of model\n",
    "6. Prediction of model\n",
    "7. Avaliable of model\n",
    "8. Building the linear equation"
   ]
  },
  {
   "cell_type": "code",
   "execution_count": 70,
   "id": "d1d9ca98-d85f-4e3d-9e20-33455b92a064",
   "metadata": {
    "tags": []
   },
   "outputs": [],
   "source": [
    "from sklearn.model_selection import train_test_split\n",
    "from sklearn.metrics import mean_squared_error\n",
    "from sklearn.linear_model import LinearRegression"
   ]
  },
  {
   "cell_type": "markdown",
   "id": "1437b0db-71ff-48e4-bd18-37bfc9bc480a",
   "metadata": {},
   "source": [
    "<h3>1. Buiding dataset $X$ and $Y$</h3>"
   ]
  },
  {
   "cell_type": "code",
   "execution_count": 46,
   "id": "893541fd-a1e9-4117-a642-d260be43b823",
   "metadata": {
    "tags": []
   },
   "outputs": [
    {
     "data": {
      "text/plain": [
       "Index(['time', 'salary', 'yhat', 'error'], dtype='object')"
      ]
     },
     "execution_count": 46,
     "metadata": {},
     "output_type": "execute_result"
    }
   ],
   "source": [
    "df.columns"
   ]
  },
  {
   "cell_type": "code",
   "execution_count": 55,
   "id": "d9d027e9-3681-49c9-b4eb-de75e7332f9f",
   "metadata": {
    "tags": []
   },
   "outputs": [],
   "source": [
    "X = df.iloc[:,:1].values"
   ]
  },
  {
   "cell_type": "code",
   "execution_count": 56,
   "id": "258ef370-4ff0-47ac-aa27-644ec5928b7c",
   "metadata": {
    "tags": []
   },
   "outputs": [],
   "source": [
    "y = df.iloc[:,-3:2].values"
   ]
  },
  {
   "cell_type": "code",
   "execution_count": 61,
   "id": "55352850-280e-45c7-b855-f398641ae072",
   "metadata": {
    "tags": []
   },
   "outputs": [
    {
     "data": {
      "text/plain": [
       "(1000, 1)"
      ]
     },
     "execution_count": 61,
     "metadata": {},
     "output_type": "execute_result"
    }
   ],
   "source": [
    "X.shape, y.shape"
   ]
  },
  {
   "cell_type": "markdown",
   "id": "50a2a884-4277-46e9-b8a4-d3c61ef37218",
   "metadata": {},
   "source": [
    "<h3>2. Split dataset for training and testing</h3>"
   ]
  },
  {
   "cell_type": "code",
   "execution_count": 72,
   "id": "beb00c27-6f3f-4342-a563-1f4efc3356f9",
   "metadata": {
    "tags": []
   },
   "outputs": [],
   "source": [
    "X_train, X_test, y_train, y_test = train_test_split(X,y,\n",
    "                                                   random_state=151120,\n",
    "                                                   test_size=0.3)"
   ]
  },
  {
   "cell_type": "code",
   "execution_count": 81,
   "id": "352c879e-bc36-439c-915f-3701571099f3",
   "metadata": {
    "tags": []
   },
   "outputs": [
    {
     "name": "stdout",
     "output_type": "stream",
     "text": [
      "Train:\n",
      "(700, 1)\n",
      "(700, 1)\n",
      "Test:\n",
      "(300, 1)\n",
      "(300, 1)\n"
     ]
    }
   ],
   "source": [
    "print(\"Train:\")\n",
    "print(X_train.shape)\n",
    "print(y_train.shape)\n",
    "\n",
    "print(\"Test:\")\n",
    "print(X_test.shape)\n",
    "print(y_test.shape)"
   ]
  },
  {
   "cell_type": "markdown",
   "id": "d538ee7a-60cb-43eb-88fd-e603f0c4a8c8",
   "metadata": {},
   "source": [
    "<h3>3. Sometimes is necessary to normalizer, standardizer or scaler of dataset</h3>"
   ]
  },
  {
   "cell_type": "markdown",
   "id": "b55bb3cd-6c61-439d-b593-8a9fe37beaaf",
   "metadata": {},
   "source": [
    "<h3>4. Building of model</h3>"
   ]
  },
  {
   "cell_type": "code",
   "execution_count": 75,
   "id": "3d601c00-2182-4f14-a8f1-b56313cd9718",
   "metadata": {
    "tags": []
   },
   "outputs": [],
   "source": [
    "model = LinearRegression()"
   ]
  },
  {
   "cell_type": "markdown",
   "id": "95eae9dd-4af7-4f12-b27d-8116f455b108",
   "metadata": {},
   "source": [
    "<h3>5. Training of model</h3>"
   ]
  },
  {
   "cell_type": "code",
   "execution_count": 76,
   "id": "34cfeefe-8db4-416a-bfe1-b8fa5f420002",
   "metadata": {
    "tags": []
   },
   "outputs": [
    {
     "data": {
      "text/plain": [
       "LinearRegression()"
      ]
     },
     "execution_count": 76,
     "metadata": {},
     "output_type": "execute_result"
    }
   ],
   "source": [
    "model.fit(X_train, y_train)"
   ]
  },
  {
   "cell_type": "markdown",
   "id": "a736156c-d9d3-4b90-9f95-caf1b60836e2",
   "metadata": {},
   "source": [
    "$y_i = \\beta_0 + \\beta_1*X_i + \\varepsilon$"
   ]
  },
  {
   "cell_type": "code",
   "execution_count": 85,
   "id": "9bd2f626-7645-4d6c-bc03-a865a5706559",
   "metadata": {
    "tags": []
   },
   "outputs": [
    {
     "name": "stdout",
     "output_type": "stream",
     "text": [
      "inclination:[[0.81589307]]\n",
      "intercept:[5.40142132]\n"
     ]
    }
   ],
   "source": [
    "beta_1 = model.coef_\n",
    "beta_0 = model.intercept_\n",
    "\n",
    "print(f'inclination:{beta_1}')\n",
    "print(f'intercept:{beta_0}')"
   ]
  },
  {
   "cell_type": "markdown",
   "id": "473f8c80-2b78-4e27-bf9b-d874db993baa",
   "metadata": {
    "tags": []
   },
   "source": [
    "<h3>5.1 Straight line </h3>\n",
    "\n",
    "$f(time) = \\beta_o + \\beta_1*time+\\varepsilon$\n",
    "\n",
    "$salary = \\beta_o + \\beta_1*time+\\varepsilon$"
   ]
  },
  {
   "cell_type": "code",
   "execution_count": 100,
   "id": "854c437f-946e-4e1e-bda3-7f70921373eb",
   "metadata": {
    "tags": []
   },
   "outputs": [
    {
     "name": "stdout",
     "output_type": "stream",
     "text": [
      "Equation of training:\n",
      "\n",
      "salary = [5.40142132] + [0.81589307]*time\n"
     ]
    }
   ],
   "source": [
    "print('Equation of training:\\n')\n",
    "\n",
    "print(f'salary = {beta_0} + {beta_1[0]}*time')"
   ]
  },
  {
   "cell_type": "markdown",
   "id": "6690ade2-3e42-480c-a802-c3a5d3d8fa2b",
   "metadata": {
    "tags": []
   },
   "source": [
    "<h3>5.2 Plot of training</h3>"
   ]
  },
  {
   "cell_type": "code",
   "execution_count": 166,
   "id": "8865c64d-bbf1-4b5e-acde-9845eb6a7dfe",
   "metadata": {
    "tags": []
   },
   "outputs": [
    {
     "data": {
      "image/png": "[encoded data removed]",
      "text/plain": [
       "<Figure size 432x288 with 1 Axes>"
      ]
     },
     "metadata": {
      "needs_background": "light"
     },
     "output_type": "display_data"
    }
   ],
   "source": [
    "plt.scatter(X_train, y_train, color = 'red')\n",
    "# plt.plot(X_train, model.predict(X_train), color = 'blue') # model.predict(X_train) ==> y_train_predict\n",
    "plt.title(f'X train x Y train: \\n salary = {beta_0} + {beta_1[0]}*time\\n')\n",
    "plt.xlabel('X train')\n",
    "plt.ylabel('Y train')\n",
    "plt.show()"
   ]
  },
  {
   "cell_type": "markdown",
   "id": "99c4f569-1390-4270-976f-fdddc35195e1",
   "metadata": {},
   "source": [
    "<h3>5.3 Prediction of training </h3>"
   ]
  },
  {
   "cell_type": "code",
   "execution_count": 169,
   "id": "d49a0a50-cf8c-4d7c-af29-b492782f821c",
   "metadata": {
    "tags": []
   },
   "outputs": [],
   "source": [
    "y_train_predict = model.predict(X_train)"
   ]
  },
  {
   "cell_type": "code",
   "execution_count": 178,
   "id": "485c22ff-6663-445d-8352-8597e2e46cdb",
   "metadata": {
    "tags": []
   },
   "outputs": [
    {
     "data": {
      "image/png": "[encoded data removed]",
      "text/plain": [
       "<Figure size 432x288 with 1 Axes>"
      ]
     },
     "metadata": {
      "needs_background": "light"
     },
     "output_type": "display_data"
    }
   ],
   "source": [
    "plt.scatter(X_train, y_train, color='g')\n",
    "plt.plot(X_train, y_train_predict, color = 'blue') # model.predict(X_train) ==> y_train_predict\n",
    "plt.title(f'X train x Y train pred: R²:{r2_score(y_train, y_train_predict)*100}\\n')\n",
    "plt.xlabel('X train')\n",
    "plt.ylabel('Y train pred')\n",
    "plt.show()"
   ]
  },
  {
   "cell_type": "code",
   "execution_count": 147,
   "id": "12aa1c8b-3a01-47dc-aed9-c246c28ab4e0",
   "metadata": {
    "tags": []
   },
   "outputs": [
    {
     "name": "stdout",
     "output_type": "stream",
     "text": [
      "65.28339508632361\n"
     ]
    }
   ],
   "source": [
    "from sklearn.metrics import r2_score\n",
    "\n",
    "print(f'{r2_score(y_train, y_train_pred)*100}')"
   ]
  },
  {
   "cell_type": "markdown",
   "id": "8776d448-461a-46f3-9c2c-db0272a254dd",
   "metadata": {},
   "source": [
    "<h3>6. Prediction of test</h3>"
   ]
  },
  {
   "cell_type": "code",
   "execution_count": 78,
   "id": "164f7e1f-67bc-4b4b-80af-6b5c0a7a3bb1",
   "metadata": {
    "tags": []
   },
   "outputs": [
    {
     "data": {
      "text/plain": [
       "(300, 1)"
      ]
     },
     "execution_count": 78,
     "metadata": {},
     "output_type": "execute_result"
    }
   ],
   "source": [
    "# Here we are using the X_test\n",
    "\n",
    "y_pred = model.predict(X_test)\n",
    "\n",
    "y_pred.shape"
   ]
  },
  {
   "cell_type": "code",
   "execution_count": 155,
   "id": "c5d45288-6247-41b1-8a14-da1bff0675ca",
   "metadata": {
    "tags": []
   },
   "outputs": [
    {
     "name": "stdout",
     "output_type": "stream",
     "text": [
      "66.26768778387483\n"
     ]
    }
   ],
   "source": [
    "print(f'{r2_score(y_test, y_pred)*100}')"
   ]
  },
  {
   "cell_type": "code",
   "execution_count": 157,
   "id": "b0c8afc1-4cc5-4cba-b433-2edad76b3b2a",
   "metadata": {
    "tags": []
   },
   "outputs": [
    {
     "data": {
      "image/png": "[encoded data removed]",
      "text/plain": [
       "<Figure size 432x288 with 1 Axes>"
      ]
     },
     "metadata": {
      "needs_background": "light"
     },
     "output_type": "display_data"
    }
   ],
   "source": [
    "plt.scatter(y_test, y_pred,color='r')\n",
    "plt.title(f'Y test x Y pred: {r2_score(y_test, y_pred)*100}\\n')\n",
    "plt.xlabel('Y test')\n",
    "plt.ylabel('Y prediction')\n",
    "plt.show()"
   ]
  },
  {
   "cell_type": "code",
   "execution_count": null,
   "id": "26aedee8-c74b-4ccd-ac26-ef815479861d",
   "metadata": {},
   "outputs": [],
   "source": []
  },
  {
   "cell_type": "code",
   "execution_count": null,
   "id": "6b9e1b57-57bc-4d57-b63c-e24555cefdc9",
   "metadata": {},
   "outputs": [],
   "source": []
  },
  {
   "cell_type": "markdown",
   "id": "b49a8869-fe3f-4071-a979-baf63784b16c",
   "metadata": {},
   "source": [
    "<h3>7. Avaliable of model</h3>"
   ]
  },
  {
   "cell_type": "code",
   "execution_count": null,
   "id": "d4a245d5-09d6-4593-ba53-3dd9a3c770ff",
   "metadata": {},
   "outputs": [],
   "source": []
  },
  {
   "cell_type": "markdown",
   "id": "6b64a85f-7506-416c-ae4b-94ad6485ac8d",
   "metadata": {},
   "source": [
    "<h3>8. Building the linear equation</h3>"
   ]
  },
  {
   "cell_type": "code",
   "execution_count": null,
   "id": "2314b6f8-8b17-4e2d-8ee6-065881ede71d",
   "metadata": {},
   "outputs": [],
   "source": []
  }
 ],
 "metadata": {
  "kernelspec": {
   "display_name": "Python 3",
   "language": "python",
   "name": "python3"
  },
  "language_info": {
   "codemirror_mode": {
    "name": "ipython",
    "version": 3
   },
   "file_extension": ".py",
   "mimetype": "text/x-python",
   "name": "python",
   "nbconvert_exporter": "python",
   "pygments_lexer": "ipython3",
   "version": "3.9.13"
  }
 },
 "nbformat": 4,
 "nbformat_minor": 5
}
